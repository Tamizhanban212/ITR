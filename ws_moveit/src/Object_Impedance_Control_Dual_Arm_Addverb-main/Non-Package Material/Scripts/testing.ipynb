{
 "cells": [
  {
   "cell_type": "code",
   "execution_count": 2,
   "metadata": {},
   "outputs": [
    {
     "name": "stdout",
     "output_type": "stream",
     "text": [
      "New Position: [-4.87146879  0.49999523  0.07498561]\n",
      "New Orientation (Euler angles, degrees): [ 8.32059304e-08  6.59478161e-03 -1.38753354e-04]\n"
     ]
    }
   ],
   "source": [
    "import numpy as np\n",
    "from scipy.spatial.transform import Rotation as R\n",
    "\n",
    "def transform_position_orientation(box_pos, box_quat, frame_pos, frame_quat):\n",
    "    \"\"\"\n",
    "    Transform the position and orientation of an object from one coordinate frame to another.\n",
    "\n",
    "    Parameters:\n",
    "    - box_pos: Tuple of (x, y, z) coordinates of the box in the global frame.\n",
    "    - box_quat: Tuple of (x, y, z, w) quaternion representing the box's orientation in the global frame.\n",
    "    - frame_pos: Tuple of (x, y, z) coordinates of the new frame's origin in the global frame.\n",
    "    - frame_quat: Tuple of (x, y, z, w) quaternion representing the new frame's orientation relative to the global frame.\n",
    "\n",
    "    Returns:\n",
    "    - Tuple of (new_pos, new_quat) where:\n",
    "      - new_pos is the transformed position of the box in the new frame's coordinates.\n",
    "      - new_quat is the transformed orientation of the box in the new frame's coordinates.\n",
    "    \"\"\"\n",
    "    \n",
    "    # Convert the input tuples to numpy arrays and quaternions\n",
    "    box_pos = np.array(box_pos)\n",
    "    frame_pos = np.array(frame_pos)\n",
    "    box_rotation = R.from_quat(box_quat)\n",
    "    frame_rotation = R.from_quat(frame_quat)\n",
    "\n",
    "    # Compute the relative rotation from the frame to the global frame\n",
    "    frame_rotation_inv = frame_rotation.inv()\n",
    "\n",
    "    # Calculate the new position: translate box position to frame's coordinate system\n",
    "    new_pos = frame_rotation_inv.apply(box_pos - frame_pos)\n",
    "\n",
    "    # Calculate the new orientation: rotate box's quaternion by the inverse of the frame's quaternion\n",
    "    new_quat = (frame_rotation_inv * box_rotation).as_quat()\n",
    "\n",
    "    return (new_pos, new_quat)\n",
    "\n",
    "def quaternion_to_euler(quaternion):\n",
    "    rotation = R.from_quat(quaternion)\n",
    "    euler_angles = rotation.as_euler('xyz', degrees=True)  # or 'zyx' based on your convention\n",
    "    return euler_angles\n",
    "\n",
    "# Example usage\n",
    "box_position = (0.12853120767649265, 0.4999952337139436, 0.07498561387601738)  # Box's position in the global frame\n",
    "box_orientation = (7.957936148724259e-10, 5.75503262204572e-05, -1.210851474082113e-06, 0.9999999983432468)  # Box's orientation as quaternion\n",
    "frame_position = (5, 0, 0)  # Second frame's position in the global frame\n",
    "frame_orientation = (0, 0, 0, 1)  # Second frame's orientation (no rotation)\n",
    "\n",
    "new_position, new_orientation_quat = transform_position_orientation(\n",
    "    box_position, box_orientation, frame_position, frame_orientation)\n",
    "\n",
    "new_orientation_euler = quaternion_to_euler(new_orientation_quat)\n",
    "\n",
    "print(\"New Position:\", new_position)\n",
    "print(\"New Orientation (Euler angles, degrees):\", new_orientation_euler)\n"
   ]
  },
  {
   "cell_type": "code",
   "execution_count": 10,
   "metadata": {},
   "outputs": [
    {
     "ename": "ModuleNotFoundError",
     "evalue": "No module named 'trac_ik_python'",
     "output_type": "error",
     "traceback": [
      "\u001b[0;31m---------------------------------------------------------------------------\u001b[0m",
      "\u001b[0;31mModuleNotFoundError\u001b[0m                       Traceback (most recent call last)",
      "Cell \u001b[0;32mIn[10], line 3\u001b[0m\n\u001b[1;32m      1\u001b[0m \u001b[38;5;66;03m#!/usr/bin/env python\u001b[39;00m\n\u001b[1;32m      2\u001b[0m \u001b[38;5;28;01mimport\u001b[39;00m \u001b[38;5;21;01mrospy\u001b[39;00m\n\u001b[0;32m----> 3\u001b[0m \u001b[38;5;28;01mfrom\u001b[39;00m \u001b[38;5;21;01mtrac_ik_python\u001b[39;00m\u001b[38;5;21;01m.\u001b[39;00m\u001b[38;5;21;01msrv\u001b[39;00m \u001b[38;5;28;01mimport\u001b[39;00m GetPositionIK\n\u001b[1;32m      4\u001b[0m \u001b[38;5;28;01mfrom\u001b[39;00m \u001b[38;5;21;01mmoveit_msgs\u001b[39;00m\u001b[38;5;21;01m.\u001b[39;00m\u001b[38;5;21;01mmsg\u001b[39;00m \u001b[38;5;28;01mimport\u001b[39;00m PositionIKRequest\n\u001b[1;32m      6\u001b[0m \u001b[38;5;28;01mdef\u001b[39;00m \u001b[38;5;21mrequest_ik\u001b[39m(pose):\n",
      "\u001b[0;31mModuleNotFoundError\u001b[0m: No module named 'trac_ik_python'"
     ]
    }
   ],
   "source": [
    "#!/usr/bin/env python\n",
    "import rospy\n",
    "from trac_ik_python.srv import GetPositionIK\n",
    "from moveit_msgs.msg import PositionIKRequest\n",
    "\n",
    "def request_ik(pose):\n",
    "    rospy.wait_for_service('compute_ik')\n",
    "    try:\n",
    "        compute_ik = rospy.ServiceProxy('compute_ik', GetPositionIK)\n",
    "        ik_request = PositionIKRequest()\n",
    "        ik_request.pose_stamped = pose  # Your desired pose\n",
    "        response = compute_ik(ik_request)\n",
    "        return response.solution.joint_state\n",
    "    except rospy.ServiceException as e:\n",
    "        print(\"Service call failed: %s\"%e)\n",
    "\n",
    "def main():\n",
    "    rospy.init_node('ik_client')\n",
    "    # Example pose setup\n",
    "    # pose = setup your PoseStamped message here\n",
    "    result = request_ik(pose)\n",
    "    print(\"IK Result:\", result)\n",
    "\n",
    "if __name__ == '__main__':\n",
    "    main()\n"
   ]
  }
 ],
 "metadata": {
  "kernelspec": {
   "display_name": "Python 3",
   "language": "python",
   "name": "python3"
  },
  "language_info": {
   "codemirror_mode": {
    "name": "ipython",
    "version": 3
   },
   "file_extension": ".py",
   "mimetype": "text/x-python",
   "name": "python",
   "nbconvert_exporter": "python",
   "pygments_lexer": "ipython3",
   "version": "3.8.10"
  }
 },
 "nbformat": 4,
 "nbformat_minor": 2
}
